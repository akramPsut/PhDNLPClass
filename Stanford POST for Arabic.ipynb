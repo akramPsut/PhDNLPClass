{
 "cells": [
  {
   "cell_type": "code",
   "execution_count": 2,
   "metadata": {
    "collapsed": false
   },
   "outputs": [],
   "source": [
    "#from nltk.tag.stanford import POSTagger\n",
    "from nltk.tag.stanford import StanfordPOSTagger"
   ]
  },
  {
   "cell_type": "markdown",
   "metadata": {},
   "source": [
    "## List of Tags\n",
    "\n",
    "\n",
    "        CC Coordinating conjunction\n",
    "        CD Cardinal number\n",
    "        DT Determiner\n",
    "        EX Existential there\n",
    "        FW Foreign word\n",
    "        IN Preposition or subordinating conjunction\n",
    "        JJ Adjective\n",
    "        JJR Adjective, comparative\n",
    "        JJS Adjective, superlative\n",
    "        LS List item marker\n",
    "        MD Modal\n",
    "        NN Noun, singular or mass\n",
    "        NNS Noun, plural\n",
    "        NNP Proper noun, singular\n",
    "        NNPS Proper noun, plural\n",
    "        PDT Predeterminer\n",
    "        POS Possessive ending\n",
    "        PRP Personal pronoun\n",
    "        PRP$ Possessive pronoun\n",
    "        RB Adverb\n",
    "        RBR Adverb, comparative\n",
    "        RBS Adverb, superlative\n",
    "        RP Particle\n",
    "        SYM Symbol\n",
    "        TO to\n",
    "        UH Interjection\n",
    "        VB Verb, base form\n",
    "        VBD Verb, past tense\n",
    "        VBG Verb, gerund or present participle\n",
    "        VBN Verb, past participle\n",
    "        VBP Verb, non­3rd person singular present\n",
    "        VBZ Verb, 3rd person singular present\n",
    "        WDT Wh­determiner\n",
    "        WP Wh­pronoun\n",
    "        WP$ Possessive wh­pronoun\n",
    "        WRB Wh­adverb\n",
    "\n"
   ]
  },
  {
   "cell_type": "code",
   "execution_count": 9,
   "metadata": {
    "collapsed": false
   },
   "outputs": [
    {
     "data": {
      "text/plain": [
       "[(u'this', u'DT'),\n",
       " (u'is', u'VBZ'),\n",
       " (u'stanford', u'JJ'),\n",
       " (u'postagger', u'NN'),\n",
       " (u'in', u'IN'),\n",
       " (u'nltk', u'NN'),\n",
       " (u'for', u'IN'),\n",
       " (u'python', u'NN'),\n",
       " (u'users', u'NNS')]"
      ]
     },
     "execution_count": 9,
     "metadata": {},
     "output_type": "execute_result"
    }
   ],
   "source": [
    "english_postagger = StanfordPOSTagger(\"models/english-bidirectional-distsim.tagger\", \"stanford-postagger.jar\")\n",
    "english_postagger.tag(\"this is stanford postagger in nltk for python users\".split())"
   ]
  },
  {
   "cell_type": "code",
   "execution_count": 3,
   "metadata": {
    "collapsed": false
   },
   "outputs": [
    {
     "data": {
      "text/plain": [
       "[('', u'\\u2018\\u8fd9#NN'),\n",
       " ('', u'\\u662f#VC'),\n",
       " ('', u'\\u5728#P'),\n",
       " ('', u'Python#NN'),\n",
       " ('', u'\\u73af\\u5883#NN'),\n",
       " ('', u'\\u4e2d#LC'),\n",
       " ('', u'\\u4f7f\\u7528#VV'),\n",
       " ('', u'\\u65af\\u5766\\u798f#NR'),\n",
       " ('', u'\\u8bcd\\u6027#JJ'),\n",
       " ('', u'\\u6807#NN'),\n",
       " ('', u'\\u5668#NN')]"
      ]
     },
     "execution_count": 3,
     "metadata": {},
     "output_type": "execute_result"
    }
   ],
   "source": [
    "chinese_postagger = StanfordPOSTagger(\"models/chinese-distsim.tagger\", \"stanford-postagger.jar\", encoding=\"utf-8\")\n",
    "\n",
    "chinese_postagger.tag(\"‘这 是 在 Python 环境 中 使用 斯坦福 词性 标 器\".split())"
   ]
  },
  {
   "cell_type": "code",
   "execution_count": 5,
   "metadata": {
    "collapsed": false
   },
   "outputs": [
    {
     "data": {
      "text/plain": [
       "[('', u'\\u0630\\u0647\\u0628/VBD'),\n",
       " ('', u'\\u0627\\u0644\\u0648\\u0644\\u062f/DTNN'),\n",
       " ('', u'\\u0627\\u0644\\u0649/IN'),\n",
       " ('', u'\\u0627\\u0644\\u0645\\u062f\\u0631\\u0633\\u0629/DTNN')]"
      ]
     },
     "execution_count": 5,
     "metadata": {},
     "output_type": "execute_result"
    }
   ],
   "source": [
    "arabic_postagger = StanfordPOSTagger(\"models/arabic.tagger\", \"stanford-postagger.jar\", encoding=\"utf-8\")\n",
    "\n",
    "arabic_postagger.tag(\"ذهب الولد الى المدرسة\".split())"
   ]
  },
  {
   "cell_type": "code",
   "execution_count": 6,
   "metadata": {
    "collapsed": false
   },
   "outputs": [
    {
     "data": {
      "text/plain": [
       "[('', u'\\u0630\\u0647\\u0628/VBD'),\n",
       " ('', u'\\u0627\\u0644\\u0648\\u0644\\u062f/DTNN'),\n",
       " ('', u'\\u0627\\u0644\\u0644\\u0627\\u0645\\u0639/DTJJ')]"
      ]
     },
     "execution_count": 6,
     "metadata": {},
     "output_type": "execute_result"
    }
   ],
   "source": [
    "arabic_postagger.tag(\"ذهب الولد اللامع\".split())"
   ]
  },
  {
   "cell_type": "code",
   "execution_count": null,
   "metadata": {
    "collapsed": true
   },
   "outputs": [],
   "source": []
  }
 ],
 "metadata": {
  "kernelspec": {
   "display_name": "Python 2",
   "language": "python",
   "name": "python2"
  },
  "language_info": {
   "codemirror_mode": {
    "name": "ipython",
    "version": 2
   },
   "file_extension": ".py",
   "mimetype": "text/x-python",
   "name": "python",
   "nbconvert_exporter": "python",
   "pygments_lexer": "ipython2",
   "version": "2.7.11"
  }
 },
 "nbformat": 4,
 "nbformat_minor": 0
}
